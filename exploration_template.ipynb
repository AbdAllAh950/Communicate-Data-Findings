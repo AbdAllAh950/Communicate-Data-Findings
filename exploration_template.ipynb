{
 "cells": [
  {
   "cell_type": "markdown",
   "metadata": {
    "slideshow": {
     "slide_type": "slide"
    }
   },
   "source": [
    "# Communicate Data Finidings > Ford GoBike System Data\n",
    "## by Abdallah Sayed Ali\n",
    "\n",
    "#### This dataset includes information about individual rides made in a bike-sharing system covering the greater New York City, NY.  This notebook will perform analyzing + Visaulaiztion for answering relevant questions. The dataset find citibikenyc's trip data for public use and its date modified was in Jun 1st 2020 with data has been collected in 2013\n",
    "data set's link=https://www.citibikenyc.com/system-data\n",
    "### The Data \n",
    "Each trip is anonymized and includies:\n",
    "- Trip Duration (seconds)\n",
    "- Start Time and Date \n",
    "- Stop Time and Date \n",
    "- Start Station Name \n",
    "- End Station Name\n",
    "- Station ID\n",
    "- Station Lat/Long\n",
    "- Bike ID\n",
    "- User Type (Customer = 24-hour pass or 3-day pass user; Subscriber = Annual Member)\n",
    "- Gender (Zero=unknown; 1=male; 2=female)\n",
    "- Year of Birth\n",
    "\n",
    "The data has been processed to remove trips that are taken by staff as they service and inspect the system; and any trips that were below 60 seconds in length (potentially false starts or users trying to re-dock a bike to ensure it was secure "
   ]
  },
  {
   "cell_type": "code",
   "execution_count": 1,
   "metadata": {
    "slideshow": {
     "slide_type": "skip"
    }
   },
   "outputs": [],
   "source": [
    "# import all packages and set plots to be embedded inline\n",
    "import numpy as np\n",
    "import pandas as pd\n",
    "import matplotlib.pyplot as plt\n",
    "import seaborn as sb\n",
    "import datetime as dt\n",
    "\n",
    "%matplotlib inline"
   ]
  },
  {
   "cell_type": "code",
   "execution_count": 2,
   "metadata": {
    "slideshow": {
     "slide_type": "skip"
    }
   },
   "outputs": [
    {
     "data": {
      "text/html": [
       "<div>\n",
       "<style scoped>\n",
       "    .dataframe tbody tr th:only-of-type {\n",
       "        vertical-align: middle;\n",
       "    }\n",
       "\n",
       "    .dataframe tbody tr th {\n",
       "        vertical-align: top;\n",
       "    }\n",
       "\n",
       "    .dataframe thead th {\n",
       "        text-align: right;\n",
       "    }\n",
       "</style>\n",
       "<table border=\"1\" class=\"dataframe\">\n",
       "  <thead>\n",
       "    <tr style=\"text-align: right;\">\n",
       "      <th></th>\n",
       "      <th>tripduration</th>\n",
       "      <th>starttime</th>\n",
       "      <th>stoptime</th>\n",
       "      <th>start station id</th>\n",
       "      <th>start station name</th>\n",
       "      <th>start station latitude</th>\n",
       "      <th>start station longitude</th>\n",
       "      <th>end station id</th>\n",
       "      <th>end station name</th>\n",
       "      <th>end station latitude</th>\n",
       "      <th>end station longitude</th>\n",
       "      <th>bikeid</th>\n",
       "      <th>usertype</th>\n",
       "      <th>birth year</th>\n",
       "      <th>gender</th>\n",
       "    </tr>\n",
       "  </thead>\n",
       "  <tbody>\n",
       "    <tr>\n",
       "      <th>577698</th>\n",
       "      <td>925</td>\n",
       "      <td>2013-06-30 23:59:27</td>\n",
       "      <td>2013-07-01 00:14:52</td>\n",
       "      <td>509</td>\n",
       "      <td>9 Ave &amp; W 22 St</td>\n",
       "      <td>40.745497</td>\n",
       "      <td>-74.001971</td>\n",
       "      <td>462.0</td>\n",
       "      <td>W 22 St &amp; 10 Ave</td>\n",
       "      <td>40.746920</td>\n",
       "      <td>-74.004519</td>\n",
       "      <td>15250</td>\n",
       "      <td>Subscriber</td>\n",
       "      <td>1964.0</td>\n",
       "      <td>1</td>\n",
       "    </tr>\n",
       "    <tr>\n",
       "      <th>577699</th>\n",
       "      <td>279</td>\n",
       "      <td>2013-06-30 23:59:36</td>\n",
       "      <td>2013-07-01 00:04:15</td>\n",
       "      <td>116</td>\n",
       "      <td>W 17 St &amp; 8 Ave</td>\n",
       "      <td>40.741776</td>\n",
       "      <td>-74.001497</td>\n",
       "      <td>494.0</td>\n",
       "      <td>W 26 St &amp; 8 Ave</td>\n",
       "      <td>40.747348</td>\n",
       "      <td>-73.997236</td>\n",
       "      <td>19411</td>\n",
       "      <td>Customer</td>\n",
       "      <td>NaN</td>\n",
       "      <td>0</td>\n",
       "    </tr>\n",
       "    <tr>\n",
       "      <th>577700</th>\n",
       "      <td>161</td>\n",
       "      <td>2013-06-30 23:59:33</td>\n",
       "      <td>2013-07-01 00:02:14</td>\n",
       "      <td>443</td>\n",
       "      <td>Bedford Ave &amp; S 9 St</td>\n",
       "      <td>40.708531</td>\n",
       "      <td>-73.964090</td>\n",
       "      <td>282.0</td>\n",
       "      <td>Kent Ave &amp; S 11 St</td>\n",
       "      <td>40.707645</td>\n",
       "      <td>-73.968415</td>\n",
       "      <td>18910</td>\n",
       "      <td>Subscriber</td>\n",
       "      <td>1972.0</td>\n",
       "      <td>2</td>\n",
       "    </tr>\n",
       "    <tr>\n",
       "      <th>577701</th>\n",
       "      <td>909</td>\n",
       "      <td>2013-06-30 23:59:47</td>\n",
       "      <td>2013-07-01 00:14:56</td>\n",
       "      <td>509</td>\n",
       "      <td>9 Ave &amp; W 22 St</td>\n",
       "      <td>40.745497</td>\n",
       "      <td>-74.001971</td>\n",
       "      <td>462.0</td>\n",
       "      <td>W 22 St &amp; 10 Ave</td>\n",
       "      <td>40.746920</td>\n",
       "      <td>-74.004519</td>\n",
       "      <td>16108</td>\n",
       "      <td>Customer</td>\n",
       "      <td>NaN</td>\n",
       "      <td>0</td>\n",
       "    </tr>\n",
       "    <tr>\n",
       "      <th>577702</th>\n",
       "      <td>634</td>\n",
       "      <td>2013-07-01 00:00:00</td>\n",
       "      <td>2013-07-01 00:10:34</td>\n",
       "      <td>164</td>\n",
       "      <td>E 47 St &amp; 2 Ave</td>\n",
       "      <td>40.753231</td>\n",
       "      <td>-73.970325</td>\n",
       "      <td>504.0</td>\n",
       "      <td>1 Ave &amp; E 16 St</td>\n",
       "      <td>40.732219</td>\n",
       "      <td>-73.981656</td>\n",
       "      <td>16950</td>\n",
       "      <td>Customer</td>\n",
       "      <td>NaN</td>\n",
       "      <td>0</td>\n",
       "    </tr>\n",
       "  </tbody>\n",
       "</table>\n",
       "</div>"
      ],
      "text/plain": [
       "        tripduration            starttime             stoptime  \\\n",
       "577698           925  2013-06-30 23:59:27  2013-07-01 00:14:52   \n",
       "577699           279  2013-06-30 23:59:36  2013-07-01 00:04:15   \n",
       "577700           161  2013-06-30 23:59:33  2013-07-01 00:02:14   \n",
       "577701           909  2013-06-30 23:59:47  2013-07-01 00:14:56   \n",
       "577702           634  2013-07-01 00:00:00  2013-07-01 00:10:34   \n",
       "\n",
       "        start station id    start station name  start station latitude  \\\n",
       "577698               509       9 Ave & W 22 St               40.745497   \n",
       "577699               116       W 17 St & 8 Ave               40.741776   \n",
       "577700               443  Bedford Ave & S 9 St               40.708531   \n",
       "577701               509       9 Ave & W 22 St               40.745497   \n",
       "577702               164       E 47 St & 2 Ave               40.753231   \n",
       "\n",
       "        start station longitude  end station id    end station name  \\\n",
       "577698               -74.001971           462.0    W 22 St & 10 Ave   \n",
       "577699               -74.001497           494.0     W 26 St & 8 Ave   \n",
       "577700               -73.964090           282.0  Kent Ave & S 11 St   \n",
       "577701               -74.001971           462.0    W 22 St & 10 Ave   \n",
       "577702               -73.970325           504.0     1 Ave & E 16 St   \n",
       "\n",
       "        end station latitude  end station longitude  bikeid    usertype  \\\n",
       "577698             40.746920             -74.004519   15250  Subscriber   \n",
       "577699             40.747348             -73.997236   19411    Customer   \n",
       "577700             40.707645             -73.968415   18910  Subscriber   \n",
       "577701             40.746920             -74.004519   16108    Customer   \n",
       "577702             40.732219             -73.981656   16950    Customer   \n",
       "\n",
       "        birth year  gender  \n",
       "577698      1964.0       1  \n",
       "577699         NaN       0  \n",
       "577700      1972.0       2  \n",
       "577701         NaN       0  \n",
       "577702         NaN       0  "
      ]
     },
     "execution_count": 2,
     "metadata": {},
     "output_type": "execute_result"
    }
   ],
   "source": [
    "df = pd.read_csv('citibike-tripdata.csv')\n",
    "df.tail()"
   ]
  },
  {
   "cell_type": "code",
   "execution_count": 3,
   "metadata": {
    "slideshow": {
     "slide_type": "skip"
    }
   },
   "outputs": [
    {
     "data": {
      "text/html": [
       "<div>\n",
       "<style scoped>\n",
       "    .dataframe tbody tr th:only-of-type {\n",
       "        vertical-align: middle;\n",
       "    }\n",
       "\n",
       "    .dataframe tbody tr th {\n",
       "        vertical-align: top;\n",
       "    }\n",
       "\n",
       "    .dataframe thead th {\n",
       "        text-align: right;\n",
       "    }\n",
       "</style>\n",
       "<table border=\"1\" class=\"dataframe\">\n",
       "  <thead>\n",
       "    <tr style=\"text-align: right;\">\n",
       "      <th></th>\n",
       "      <th>tripduration</th>\n",
       "      <th>starttime</th>\n",
       "      <th>stoptime</th>\n",
       "      <th>start station id</th>\n",
       "      <th>start station name</th>\n",
       "      <th>start station latitude</th>\n",
       "      <th>start station longitude</th>\n",
       "      <th>end station id</th>\n",
       "      <th>end station name</th>\n",
       "      <th>end station latitude</th>\n",
       "      <th>end station longitude</th>\n",
       "      <th>bikeid</th>\n",
       "      <th>usertype</th>\n",
       "      <th>birth year</th>\n",
       "      <th>gender</th>\n",
       "    </tr>\n",
       "  </thead>\n",
       "  <tbody>\n",
       "    <tr>\n",
       "      <th>0</th>\n",
       "      <td>695</td>\n",
       "      <td>2013-06-01 00:00:01</td>\n",
       "      <td>2013-06-01 00:11:36</td>\n",
       "      <td>444</td>\n",
       "      <td>Broadway &amp; W 24 St</td>\n",
       "      <td>40.742354</td>\n",
       "      <td>-73.989151</td>\n",
       "      <td>434.0</td>\n",
       "      <td>9 Ave &amp; W 18 St</td>\n",
       "      <td>40.743174</td>\n",
       "      <td>-74.003664</td>\n",
       "      <td>19678</td>\n",
       "      <td>Subscriber</td>\n",
       "      <td>1983.0</td>\n",
       "      <td>1</td>\n",
       "    </tr>\n",
       "    <tr>\n",
       "      <th>1</th>\n",
       "      <td>693</td>\n",
       "      <td>2013-06-01 00:00:08</td>\n",
       "      <td>2013-06-01 00:11:41</td>\n",
       "      <td>444</td>\n",
       "      <td>Broadway &amp; W 24 St</td>\n",
       "      <td>40.742354</td>\n",
       "      <td>-73.989151</td>\n",
       "      <td>434.0</td>\n",
       "      <td>9 Ave &amp; W 18 St</td>\n",
       "      <td>40.743174</td>\n",
       "      <td>-74.003664</td>\n",
       "      <td>16649</td>\n",
       "      <td>Subscriber</td>\n",
       "      <td>1984.0</td>\n",
       "      <td>1</td>\n",
       "    </tr>\n",
       "    <tr>\n",
       "      <th>2</th>\n",
       "      <td>2059</td>\n",
       "      <td>2013-06-01 00:00:44</td>\n",
       "      <td>2013-06-01 00:35:03</td>\n",
       "      <td>406</td>\n",
       "      <td>Hicks St &amp; Montague St</td>\n",
       "      <td>40.695128</td>\n",
       "      <td>-73.995951</td>\n",
       "      <td>406.0</td>\n",
       "      <td>Hicks St &amp; Montague St</td>\n",
       "      <td>40.695128</td>\n",
       "      <td>-73.995951</td>\n",
       "      <td>19599</td>\n",
       "      <td>Customer</td>\n",
       "      <td>NaN</td>\n",
       "      <td>0</td>\n",
       "    </tr>\n",
       "    <tr>\n",
       "      <th>3</th>\n",
       "      <td>123</td>\n",
       "      <td>2013-06-01 00:01:04</td>\n",
       "      <td>2013-06-01 00:03:07</td>\n",
       "      <td>475</td>\n",
       "      <td>E 15 St &amp; Irving Pl</td>\n",
       "      <td>40.735243</td>\n",
       "      <td>-73.987586</td>\n",
       "      <td>262.0</td>\n",
       "      <td>Washington Park</td>\n",
       "      <td>40.691782</td>\n",
       "      <td>-73.973730</td>\n",
       "      <td>16352</td>\n",
       "      <td>Subscriber</td>\n",
       "      <td>1960.0</td>\n",
       "      <td>1</td>\n",
       "    </tr>\n",
       "    <tr>\n",
       "      <th>4</th>\n",
       "      <td>1521</td>\n",
       "      <td>2013-06-01 00:01:22</td>\n",
       "      <td>2013-06-01 00:26:43</td>\n",
       "      <td>2008</td>\n",
       "      <td>Little West St &amp; 1 Pl</td>\n",
       "      <td>40.705693</td>\n",
       "      <td>-74.016777</td>\n",
       "      <td>310.0</td>\n",
       "      <td>State St &amp; Smith St</td>\n",
       "      <td>40.689269</td>\n",
       "      <td>-73.989129</td>\n",
       "      <td>15567</td>\n",
       "      <td>Subscriber</td>\n",
       "      <td>1983.0</td>\n",
       "      <td>1</td>\n",
       "    </tr>\n",
       "  </tbody>\n",
       "</table>\n",
       "</div>"
      ],
      "text/plain": [
       "   tripduration            starttime             stoptime  start station id  \\\n",
       "0           695  2013-06-01 00:00:01  2013-06-01 00:11:36               444   \n",
       "1           693  2013-06-01 00:00:08  2013-06-01 00:11:41               444   \n",
       "2          2059  2013-06-01 00:00:44  2013-06-01 00:35:03               406   \n",
       "3           123  2013-06-01 00:01:04  2013-06-01 00:03:07               475   \n",
       "4          1521  2013-06-01 00:01:22  2013-06-01 00:26:43              2008   \n",
       "\n",
       "       start station name  start station latitude  start station longitude  \\\n",
       "0      Broadway & W 24 St               40.742354               -73.989151   \n",
       "1      Broadway & W 24 St               40.742354               -73.989151   \n",
       "2  Hicks St & Montague St               40.695128               -73.995951   \n",
       "3     E 15 St & Irving Pl               40.735243               -73.987586   \n",
       "4   Little West St & 1 Pl               40.705693               -74.016777   \n",
       "\n",
       "   end station id        end station name  end station latitude  \\\n",
       "0           434.0         9 Ave & W 18 St             40.743174   \n",
       "1           434.0         9 Ave & W 18 St             40.743174   \n",
       "2           406.0  Hicks St & Montague St             40.695128   \n",
       "3           262.0         Washington Park             40.691782   \n",
       "4           310.0     State St & Smith St             40.689269   \n",
       "\n",
       "   end station longitude  bikeid    usertype  birth year  gender  \n",
       "0             -74.003664   19678  Subscriber      1983.0       1  \n",
       "1             -74.003664   16649  Subscriber      1984.0       1  \n",
       "2             -73.995951   19599    Customer         NaN       0  \n",
       "3             -73.973730   16352  Subscriber      1960.0       1  \n",
       "4             -73.989129   15567  Subscriber      1983.0       1  "
      ]
     },
     "execution_count": 3,
     "metadata": {},
     "output_type": "execute_result"
    }
   ],
   "source": [
    "df.head()"
   ]
  },
  {
   "cell_type": "code",
   "execution_count": 4,
   "metadata": {
    "slideshow": {
     "slide_type": "skip"
    }
   },
   "outputs": [
    {
     "data": {
      "text/plain": [
       "(577703, 15)"
      ]
     },
     "execution_count": 4,
     "metadata": {},
     "output_type": "execute_result"
    }
   ],
   "source": [
    "df.shape"
   ]
  },
  {
   "cell_type": "code",
   "execution_count": 5,
   "metadata": {
    "slideshow": {
     "slide_type": "skip"
    }
   },
   "outputs": [
    {
     "name": "stdout",
     "output_type": "stream",
     "text": [
      "<class 'pandas.core.frame.DataFrame'>\n",
      "RangeIndex: 577703 entries, 0 to 577702\n",
      "Data columns (total 15 columns):\n",
      " #   Column                   Non-Null Count   Dtype  \n",
      "---  ------                   --------------   -----  \n",
      " 0   tripduration             577703 non-null  int64  \n",
      " 1   starttime                577703 non-null  object \n",
      " 2   stoptime                 577703 non-null  object \n",
      " 3   start station id         577703 non-null  int64  \n",
      " 4   start station name       577703 non-null  object \n",
      " 5   start station latitude   577703 non-null  float64\n",
      " 6   start station longitude  577703 non-null  float64\n",
      " 7   end station id           559644 non-null  float64\n",
      " 8   end station name         559644 non-null  object \n",
      " 9   end station latitude     559644 non-null  float64\n",
      " 10  end station longitude    559644 non-null  float64\n",
      " 11  bikeid                   577703 non-null  int64  \n",
      " 12  usertype                 577703 non-null  object \n",
      " 13  birth year               337382 non-null  float64\n",
      " 14  gender                   577703 non-null  int64  \n",
      "dtypes: float64(6), int64(4), object(5)\n",
      "memory usage: 66.1+ MB\n"
     ]
    }
   ],
   "source": [
    "df.info()"
   ]
  },
  {
   "cell_type": "code",
   "execution_count": 6,
   "metadata": {
    "slideshow": {
     "slide_type": "skip"
    }
   },
   "outputs": [
    {
     "data": {
      "text/html": [
       "<div>\n",
       "<style scoped>\n",
       "    .dataframe tbody tr th:only-of-type {\n",
       "        vertical-align: middle;\n",
       "    }\n",
       "\n",
       "    .dataframe tbody tr th {\n",
       "        vertical-align: top;\n",
       "    }\n",
       "\n",
       "    .dataframe thead th {\n",
       "        text-align: right;\n",
       "    }\n",
       "</style>\n",
       "<table border=\"1\" class=\"dataframe\">\n",
       "  <thead>\n",
       "    <tr style=\"text-align: right;\">\n",
       "      <th></th>\n",
       "      <th>tripduration</th>\n",
       "      <th>start station id</th>\n",
       "      <th>start station latitude</th>\n",
       "      <th>start station longitude</th>\n",
       "      <th>end station id</th>\n",
       "      <th>end station latitude</th>\n",
       "      <th>end station longitude</th>\n",
       "      <th>bikeid</th>\n",
       "      <th>birth year</th>\n",
       "      <th>gender</th>\n",
       "    </tr>\n",
       "  </thead>\n",
       "  <tbody>\n",
       "    <tr>\n",
       "      <th>count</th>\n",
       "      <td>5.777030e+05</td>\n",
       "      <td>577703.000000</td>\n",
       "      <td>577703.000000</td>\n",
       "      <td>577703.000000</td>\n",
       "      <td>559644.000000</td>\n",
       "      <td>559644.000000</td>\n",
       "      <td>559644.000000</td>\n",
       "      <td>577703.000000</td>\n",
       "      <td>337382.000000</td>\n",
       "      <td>577703.000000</td>\n",
       "    </tr>\n",
       "    <tr>\n",
       "      <th>mean</th>\n",
       "      <td>1.372570e+03</td>\n",
       "      <td>439.228836</td>\n",
       "      <td>40.732436</td>\n",
       "      <td>-73.991251</td>\n",
       "      <td>441.910624</td>\n",
       "      <td>40.732146</td>\n",
       "      <td>-73.991244</td>\n",
       "      <td>17617.434516</td>\n",
       "      <td>1974.644945</td>\n",
       "      <td>0.710431</td>\n",
       "    </tr>\n",
       "    <tr>\n",
       "      <th>std</th>\n",
       "      <td>9.028063e+03</td>\n",
       "      <td>337.240318</td>\n",
       "      <td>0.021423</td>\n",
       "      <td>0.013002</td>\n",
       "      <td>345.448311</td>\n",
       "      <td>0.021507</td>\n",
       "      <td>0.013105</td>\n",
       "      <td>1677.518719</td>\n",
       "      <td>10.780255</td>\n",
       "      <td>0.678268</td>\n",
       "    </tr>\n",
       "    <tr>\n",
       "      <th>min</th>\n",
       "      <td>6.100000e+01</td>\n",
       "      <td>72.000000</td>\n",
       "      <td>40.646607</td>\n",
       "      <td>-74.017134</td>\n",
       "      <td>72.000000</td>\n",
       "      <td>40.646607</td>\n",
       "      <td>-74.017134</td>\n",
       "      <td>14529.000000</td>\n",
       "      <td>1899.000000</td>\n",
       "      <td>0.000000</td>\n",
       "    </tr>\n",
       "    <tr>\n",
       "      <th>25%</th>\n",
       "      <td>5.140000e+02</td>\n",
       "      <td>309.000000</td>\n",
       "      <td>40.717400</td>\n",
       "      <td>-74.001768</td>\n",
       "      <td>309.000000</td>\n",
       "      <td>40.716887</td>\n",
       "      <td>-74.001971</td>\n",
       "      <td>16161.000000</td>\n",
       "      <td>1968.000000</td>\n",
       "      <td>0.000000</td>\n",
       "    </tr>\n",
       "    <tr>\n",
       "      <th>50%</th>\n",
       "      <td>8.740000e+02</td>\n",
       "      <td>404.000000</td>\n",
       "      <td>40.734546</td>\n",
       "      <td>-73.990741</td>\n",
       "      <td>403.000000</td>\n",
       "      <td>40.734232</td>\n",
       "      <td>-73.990741</td>\n",
       "      <td>17638.000000</td>\n",
       "      <td>1977.000000</td>\n",
       "      <td>1.000000</td>\n",
       "    </tr>\n",
       "    <tr>\n",
       "      <th>75%</th>\n",
       "      <td>1.398000e+03</td>\n",
       "      <td>482.000000</td>\n",
       "      <td>40.749013</td>\n",
       "      <td>-73.981948</td>\n",
       "      <td>482.000000</td>\n",
       "      <td>40.748549</td>\n",
       "      <td>-73.981923</td>\n",
       "      <td>19066.000000</td>\n",
       "      <td>1983.000000</td>\n",
       "      <td>1.000000</td>\n",
       "    </tr>\n",
       "    <tr>\n",
       "      <th>max</th>\n",
       "      <td>3.876479e+06</td>\n",
       "      <td>3020.000000</td>\n",
       "      <td>40.771522</td>\n",
       "      <td>-73.950048</td>\n",
       "      <td>3020.000000</td>\n",
       "      <td>40.771522</td>\n",
       "      <td>-73.950048</td>\n",
       "      <td>20625.000000</td>\n",
       "      <td>1997.000000</td>\n",
       "      <td>2.000000</td>\n",
       "    </tr>\n",
       "  </tbody>\n",
       "</table>\n",
       "</div>"
      ],
      "text/plain": [
       "       tripduration  start station id  start station latitude  \\\n",
       "count  5.777030e+05     577703.000000           577703.000000   \n",
       "mean   1.372570e+03        439.228836               40.732436   \n",
       "std    9.028063e+03        337.240318                0.021423   \n",
       "min    6.100000e+01         72.000000               40.646607   \n",
       "25%    5.140000e+02        309.000000               40.717400   \n",
       "50%    8.740000e+02        404.000000               40.734546   \n",
       "75%    1.398000e+03        482.000000               40.749013   \n",
       "max    3.876479e+06       3020.000000               40.771522   \n",
       "\n",
       "       start station longitude  end station id  end station latitude  \\\n",
       "count            577703.000000   559644.000000         559644.000000   \n",
       "mean                -73.991251      441.910624             40.732146   \n",
       "std                   0.013002      345.448311              0.021507   \n",
       "min                 -74.017134       72.000000             40.646607   \n",
       "25%                 -74.001768      309.000000             40.716887   \n",
       "50%                 -73.990741      403.000000             40.734232   \n",
       "75%                 -73.981948      482.000000             40.748549   \n",
       "max                 -73.950048     3020.000000             40.771522   \n",
       "\n",
       "       end station longitude         bikeid     birth year         gender  \n",
       "count          559644.000000  577703.000000  337382.000000  577703.000000  \n",
       "mean              -73.991244   17617.434516    1974.644945       0.710431  \n",
       "std                 0.013105    1677.518719      10.780255       0.678268  \n",
       "min               -74.017134   14529.000000    1899.000000       0.000000  \n",
       "25%               -74.001971   16161.000000    1968.000000       0.000000  \n",
       "50%               -73.990741   17638.000000    1977.000000       1.000000  \n",
       "75%               -73.981923   19066.000000    1983.000000       1.000000  \n",
       "max               -73.950048   20625.000000    1997.000000       2.000000  "
      ]
     },
     "execution_count": 6,
     "metadata": {},
     "output_type": "execute_result"
    }
   ],
   "source": [
    "df.describe()"
   ]
  },
  {
   "cell_type": "code",
   "execution_count": 7,
   "metadata": {
    "slideshow": {
     "slide_type": "skip"
    }
   },
   "outputs": [
    {
     "data": {
      "text/plain": [
       "tripduration                    0\n",
       "starttime                       0\n",
       "stoptime                        0\n",
       "start station id                0\n",
       "start station name              0\n",
       "start station latitude          0\n",
       "start station longitude         0\n",
       "end station id              18059\n",
       "end station name            18059\n",
       "end station latitude        18059\n",
       "end station longitude       18059\n",
       "bikeid                          0\n",
       "usertype                        0\n",
       "birth year                 240321\n",
       "gender                          0\n",
       "dtype: int64"
      ]
     },
     "execution_count": 7,
     "metadata": {},
     "output_type": "execute_result"
    }
   ],
   "source": [
    "df.isnull().sum()"
   ]
  },
  {
   "cell_type": "code",
   "execution_count": 8,
   "metadata": {
    "slideshow": {
     "slide_type": "skip"
    }
   },
   "outputs": [
    {
     "data": {
      "text/plain": [
       "0"
      ]
     },
     "execution_count": 8,
     "metadata": {},
     "output_type": "execute_result"
    }
   ],
   "source": [
    "df.duplicated().sum()"
   ]
  },
  {
   "cell_type": "code",
   "execution_count": 9,
   "metadata": {
    "slideshow": {
     "slide_type": "skip"
    }
   },
   "outputs": [
    {
     "data": {
      "text/plain": [
       "1983.0    16274\n",
       "1985.0    15077\n",
       "1981.0    14904\n",
       "1982.0    14427\n",
       "1980.0    13822\n",
       "          ...  \n",
       "1920.0        5\n",
       "1935.0        5\n",
       "1927.0        3\n",
       "1930.0        2\n",
       "1929.0        1\n",
       "Name: birth year, Length: 76, dtype: int64"
      ]
     },
     "execution_count": 9,
     "metadata": {},
     "output_type": "execute_result"
    }
   ],
   "source": [
    "df['birth year'].value_counts()"
   ]
  },
  {
   "cell_type": "markdown",
   "metadata": {
    "slideshow": {
     "slide_type": "notes"
    }
   },
   "source": [
    "This data have includies about 577,703 Fordgobike data trip with 15 functionalities"
   ]
  },
  {
   "cell_type": "markdown",
   "metadata": {
    "slideshow": {
     "slide_type": "slide"
    }
   },
   "source": [
    "## Data wrangling\n",
    "###### we have unuseful columns:\n",
    "we could use station name intead of all of those columns\n",
    "\n",
    "\"end station latitude\", \n",
    "\"end station longitude\",\n",
    "\"end station id\",\n",
    "\"start station latitude\",\n",
    "\"start station longitude\",\n",
    "\"start station id\"\n",
    "\n",
    "###### we have missing values = 240321 in birth year column\n",
    "\n",
    "###### Time of timing types >> Data Variable\n",
    "we could extract start time and end time for (months,days,hours)"
   ]
  },
  {
   "cell_type": "code",
   "execution_count": 10,
   "metadata": {
    "slideshow": {
     "slide_type": "skip"
    }
   },
   "outputs": [],
   "source": [
    "# remove unuseful columns\n",
    "l =[\"end station latitude\",\"end station longitude\",\"end station id\",\"start station latitude\",\"start station longitude\",\"start station id\"]\n",
    "df.drop(l,axis=1,inplace=True,)"
   ]
  },
  {
   "cell_type": "code",
   "execution_count": 11,
   "metadata": {
    "slideshow": {
     "slide_type": "skip"
    }
   },
   "outputs": [],
   "source": [
    "# delet spaces in names of columns\n",
    "df.rename(columns={\"tripduration\":\"duration_sec\",\n",
    "                   \"starttime\":\"start_time\",\n",
    "                   \"stoptime\":\"stop_time\",\n",
    "                   \"start station name\":\"start_station_name\",\n",
    "                   \"end station name\":\"end_station_name\",\n",
    "                   \"bikeid\":\"bike_id\",\n",
    "                   \"usertype\":\"user_type\",\n",
    "                   \"birth year\":\"birth_year\"},inplace=True)"
   ]
  },
  {
   "cell_type": "code",
   "execution_count": 12,
   "metadata": {
    "slideshow": {
     "slide_type": "skip"
    }
   },
   "outputs": [],
   "source": [
    "# change start_time to datetime\n",
    "df['start_time']=pd.to_datetime(df['start_time'])\n",
    "df['stop_time']=pd.to_datetime(df['stop_time'])"
   ]
  },
  {
   "cell_type": "code",
   "execution_count": 13,
   "metadata": {
    "slideshow": {
     "slide_type": "skip"
    }
   },
   "outputs": [],
   "source": [
    "# Extract start_time_month number\n",
    "df['month']=df.start_time.dt.month.astype(int)\n",
    " \n",
    "# Extract start_time_day number\n",
    "df['day']=df.start_time.dt.day.astype(int)\n",
    "\n",
    "# Extract start_time_hour number\n",
    "df['hour']=df.start_time.dt.hour\n",
    "\n",
    "# Extract start_time weekdays\n",
    "df['day_n']= df.start_time.dt.strftime('%a')"
   ]
  },
  {
   "cell_type": "code",
   "execution_count": 14,
   "metadata": {
    "slideshow": {
     "slide_type": "skip"
    }
   },
   "outputs": [],
   "source": [
    "# create col fo the duration in mins \n",
    "df['duration_min'] = df['duration_sec']/60\n",
    "df['duration_min'] = df['duration_min'].astype(float)"
   ]
  },
  {
   "cell_type": "code",
   "execution_count": 15,
   "metadata": {
    "slideshow": {
     "slide_type": "skip"
    }
   },
   "outputs": [
    {
     "data": {
      "text/html": [
       "<div>\n",
       "<style scoped>\n",
       "    .dataframe tbody tr th:only-of-type {\n",
       "        vertical-align: middle;\n",
       "    }\n",
       "\n",
       "    .dataframe tbody tr th {\n",
       "        vertical-align: top;\n",
       "    }\n",
       "\n",
       "    .dataframe thead th {\n",
       "        text-align: right;\n",
       "    }\n",
       "</style>\n",
       "<table border=\"1\" class=\"dataframe\">\n",
       "  <thead>\n",
       "    <tr style=\"text-align: right;\">\n",
       "      <th></th>\n",
       "      <th>duration_sec</th>\n",
       "      <th>start_time</th>\n",
       "      <th>stop_time</th>\n",
       "      <th>start_station_name</th>\n",
       "      <th>end_station_name</th>\n",
       "      <th>bike_id</th>\n",
       "      <th>user_type</th>\n",
       "      <th>birth_year</th>\n",
       "      <th>gender</th>\n",
       "      <th>month</th>\n",
       "      <th>day</th>\n",
       "      <th>hour</th>\n",
       "      <th>day_n</th>\n",
       "      <th>duration_min</th>\n",
       "    </tr>\n",
       "  </thead>\n",
       "  <tbody>\n",
       "    <tr>\n",
       "      <th>0</th>\n",
       "      <td>695</td>\n",
       "      <td>2013-06-01 00:00:01</td>\n",
       "      <td>2013-06-01 00:11:36</td>\n",
       "      <td>Broadway &amp; W 24 St</td>\n",
       "      <td>9 Ave &amp; W 18 St</td>\n",
       "      <td>19678</td>\n",
       "      <td>Subscriber</td>\n",
       "      <td>1983.0</td>\n",
       "      <td>1</td>\n",
       "      <td>6</td>\n",
       "      <td>1</td>\n",
       "      <td>0</td>\n",
       "      <td>Sat</td>\n",
       "      <td>11.583333</td>\n",
       "    </tr>\n",
       "    <tr>\n",
       "      <th>1</th>\n",
       "      <td>693</td>\n",
       "      <td>2013-06-01 00:00:08</td>\n",
       "      <td>2013-06-01 00:11:41</td>\n",
       "      <td>Broadway &amp; W 24 St</td>\n",
       "      <td>9 Ave &amp; W 18 St</td>\n",
       "      <td>16649</td>\n",
       "      <td>Subscriber</td>\n",
       "      <td>1984.0</td>\n",
       "      <td>1</td>\n",
       "      <td>6</td>\n",
       "      <td>1</td>\n",
       "      <td>0</td>\n",
       "      <td>Sat</td>\n",
       "      <td>11.550000</td>\n",
       "    </tr>\n",
       "    <tr>\n",
       "      <th>2</th>\n",
       "      <td>2059</td>\n",
       "      <td>2013-06-01 00:00:44</td>\n",
       "      <td>2013-06-01 00:35:03</td>\n",
       "      <td>Hicks St &amp; Montague St</td>\n",
       "      <td>Hicks St &amp; Montague St</td>\n",
       "      <td>19599</td>\n",
       "      <td>Customer</td>\n",
       "      <td>NaN</td>\n",
       "      <td>0</td>\n",
       "      <td>6</td>\n",
       "      <td>1</td>\n",
       "      <td>0</td>\n",
       "      <td>Sat</td>\n",
       "      <td>34.316667</td>\n",
       "    </tr>\n",
       "    <tr>\n",
       "      <th>3</th>\n",
       "      <td>123</td>\n",
       "      <td>2013-06-01 00:01:04</td>\n",
       "      <td>2013-06-01 00:03:07</td>\n",
       "      <td>E 15 St &amp; Irving Pl</td>\n",
       "      <td>Washington Park</td>\n",
       "      <td>16352</td>\n",
       "      <td>Subscriber</td>\n",
       "      <td>1960.0</td>\n",
       "      <td>1</td>\n",
       "      <td>6</td>\n",
       "      <td>1</td>\n",
       "      <td>0</td>\n",
       "      <td>Sat</td>\n",
       "      <td>2.050000</td>\n",
       "    </tr>\n",
       "    <tr>\n",
       "      <th>4</th>\n",
       "      <td>1521</td>\n",
       "      <td>2013-06-01 00:01:22</td>\n",
       "      <td>2013-06-01 00:26:43</td>\n",
       "      <td>Little West St &amp; 1 Pl</td>\n",
       "      <td>State St &amp; Smith St</td>\n",
       "      <td>15567</td>\n",
       "      <td>Subscriber</td>\n",
       "      <td>1983.0</td>\n",
       "      <td>1</td>\n",
       "      <td>6</td>\n",
       "      <td>1</td>\n",
       "      <td>0</td>\n",
       "      <td>Sat</td>\n",
       "      <td>25.350000</td>\n",
       "    </tr>\n",
       "  </tbody>\n",
       "</table>\n",
       "</div>"
      ],
      "text/plain": [
       "   duration_sec          start_time           stop_time  \\\n",
       "0           695 2013-06-01 00:00:01 2013-06-01 00:11:36   \n",
       "1           693 2013-06-01 00:00:08 2013-06-01 00:11:41   \n",
       "2          2059 2013-06-01 00:00:44 2013-06-01 00:35:03   \n",
       "3           123 2013-06-01 00:01:04 2013-06-01 00:03:07   \n",
       "4          1521 2013-06-01 00:01:22 2013-06-01 00:26:43   \n",
       "\n",
       "       start_station_name        end_station_name  bike_id   user_type  \\\n",
       "0      Broadway & W 24 St         9 Ave & W 18 St    19678  Subscriber   \n",
       "1      Broadway & W 24 St         9 Ave & W 18 St    16649  Subscriber   \n",
       "2  Hicks St & Montague St  Hicks St & Montague St    19599    Customer   \n",
       "3     E 15 St & Irving Pl         Washington Park    16352  Subscriber   \n",
       "4   Little West St & 1 Pl     State St & Smith St    15567  Subscriber   \n",
       "\n",
       "   birth_year  gender  month  day  hour day_n  duration_min  \n",
       "0      1983.0       1      6    1     0   Sat     11.583333  \n",
       "1      1984.0       1      6    1     0   Sat     11.550000  \n",
       "2         NaN       0      6    1     0   Sat     34.316667  \n",
       "3      1960.0       1      6    1     0   Sat      2.050000  \n",
       "4      1983.0       1      6    1     0   Sat     25.350000  "
      ]
     },
     "execution_count": 15,
     "metadata": {},
     "output_type": "execute_result"
    }
   ],
   "source": [
    "# check\n",
    "df.head()"
   ]
  },
  {
   "cell_type": "markdown",
   "metadata": {
    "slideshow": {
     "slide_type": "slide"
    }
   },
   "source": [
    "### What is the structure of your dataset?\n",
    "\n",
    "This dataset have includies about 577,703 Fordgobike tha happened in 2013 in New York.\n",
    "\n",
    "The dataset contained features about:\n",
    "\n",
    "1-trip_duration = (start or end time) how long thr trip took in seconds\n",
    "\n",
    "2-stations = (start or end) station_name and geolocation(latitude or longitude)\n",
    "\n",
    "3-customer data = user_type \n",
    "\n",
    "4-rented bikes: bike_id \n",
    "\n",
    "The dataset has just enhanced with other features that will be used to perform interestin analysis > retal time= moth,day hour pf the day (start and end time) \n",
    "### What is/are the main feature(s) of interest in your dataset?\n",
    "\n",
    "The main feature of interest in my dataset is rental time and stations(station_name) which we will figure out when & where bikes are high in demand  \n",
    "\n",
    "also we could know that with if the user is a subscriber or customer\n",
    "### What features in the dataset do you think will help support your investigation into your feature(s) of interest?\n",
    "\n",
    "Stations: (start and end) station_name \n",
    "\n",
    "start_time >>start_month, start_day, start_hour\n",
    "\n",
    "those will be nessary in bike demanding"
   ]
  },
  {
   "cell_type": "markdown",
   "metadata": {
    "slideshow": {
     "slide_type": "slide"
    }
   },
   "source": [
    "## Univariate Exploration"
   ]
  },
  {
   "cell_type": "code",
   "execution_count": 16,
   "metadata": {
    "slideshow": {
     "slide_type": "skip"
    }
   },
   "outputs": [
    {
     "data": {
      "text/plain": [
       "Subscriber    337384\n",
       "Customer      240319\n",
       "Name: user_type, dtype: int64"
      ]
     },
     "execution_count": 16,
     "metadata": {},
     "output_type": "execute_result"
    }
   ],
   "source": [
    "df.user_type.value_counts()"
   ]
  },
  {
   "cell_type": "code",
   "execution_count": 17,
   "metadata": {
    "slideshow": {
     "slide_type": "subslide"
    }
   },
   "outputs": [
    {
     "data": {
      "text/plain": [
       "Text(0, 0.5, 'Count')"
      ]
     },
     "execution_count": 17,
     "metadata": {},
     "output_type": "execute_result"
    },
    {
     "data": {
      "image/png": "[encoded data removed]",
      "text/plain": [
       "<Figure size 720x360 with 1 Axes>"
      ]
     },
     "metadata": {
      "needs_background": "light"
     },
     "output_type": "display_data"
    }
   ],
   "source": [
    "fig , ax = plt.subplots(figsize=(10,5))\n",
    "sb.countplot(data = df, x='user_type',color= sb.color_palette()[0], ax=ax)\n",
    "plt.title('count for each user type')\n",
    "plt.xlabel(\"Distribution of User Types (subs./cus.)\")\n",
    "plt.ylabel(\"Count\")"
   ]
  },
  {
   "cell_type": "markdown",
   "metadata": {
    "slideshow": {
     "slide_type": "notes"
    }
   },
   "source": [
    "The graph shows that Subscriber(users) range between (300,000_350,000)\n",
    "\n",
    "Customer(users) range between (200,000_250,000)\n",
    "\n",
    "as the numbers shows in the pervious cell"
   ]
  },
  {
   "cell_type": "markdown",
   "metadata": {
    "slideshow": {
     "slide_type": "slide"
    }
   },
   "source": [
    "### Graph for Users Age"
   ]
  },
  {
   "cell_type": "code",
   "execution_count": 18,
   "metadata": {
    "slideshow": {
     "slide_type": "subslide"
    }
   },
   "outputs": [
    {
     "data": {
      "text/plain": [
       "Text(0, 0.5, 'Count For Users')"
      ]
     },
     "execution_count": 18,
     "metadata": {},
     "output_type": "execute_result"
    },
    {
     "data": {
      "image/png": "[encoded data removed]",
      "text/plain": [
       "<Figure size 720x360 with 1 Axes>"
      ]
     },
     "metadata": {
      "needs_background": "light"
     },
     "output_type": "display_data"
    }
   ],
   "source": [
    "# we will drop nan for birth year before plot\n",
    "bins = np.arange(0,df.birth_year.max()+1,1)\n",
    "\n",
    "plt.figure(figsize=(10,5))\n",
    "plt.hist(data = df.dropna(), x='birth_year',bins=bins)\n",
    "plt.axis([1933,2013,0,20000])\n",
    "plt.xticks([1943,1953,1963,1973,1983,1993,2003,2013],[(2013-1933),(2013-1943),(2013-1953),(2013-1963),(2013-1973),(2013-1983),(2013-1993),(2013-2003)])\n",
    "plt.gca().invert_xaxis()\n",
    "plt.title('Users Age')\n",
    "plt.xlabel('Age')\n",
    "plt.ylabel('Count For Users')"
   ]
  },
  {
   "cell_type": "markdown",
   "metadata": {
    "slideshow": {
     "slide_type": "slide"
    }
   },
   "source": [
    "### Time of the trip per minutes"
   ]
  },
  {
   "cell_type": "markdown",
   "metadata": {
    "slideshow": {
     "slide_type": "notes"
    }
   },
   "source": [
    "the graph shows that most time for trips equal 5 to 15 minutes for about 20,000 trips "
   ]
  },
  {
   "cell_type": "code",
   "execution_count": 19,
   "metadata": {
    "slideshow": {
     "slide_type": "subslide"
    }
   },
   "outputs": [
    {
     "data": {
      "text/plain": [
       "(0.0, 60.0)"
      ]
     },
     "execution_count": 19,
     "metadata": {},
     "output_type": "execute_result"
    },
    {
     "data": {
      "image/png": "[encoded data removed]",
      "text/plain": [
       "<Figure size 720x360 with 1 Axes>"
      ]
     },
     "metadata": {
      "needs_background": "light"
     },
     "output_type": "display_data"
    }
   ],
   "source": [
    "bins = np.arange(0, df.duration_min.max()+1,1)\n",
    "\n",
    "plt.figure(figsize=(10,5))\n",
    "plt.hist(data=df, x='duration_min',bins=bins)\n",
    "plt.xlabel('Time of Trip(min)')\n",
    "plt.ylabel('Trip Count')\n",
    "plt.xlim([0,60])"
   ]
  },
  {
   "cell_type": "markdown",
   "metadata": {
    "slideshow": {
     "slide_type": "notes"
    }
   },
   "source": [
    "let's plot once time per hour"
   ]
  },
  {
   "cell_type": "markdown",
   "metadata": {
    "slideshow": {
     "slide_type": "slide"
    }
   },
   "source": [
    "### Time of the trip per hour"
   ]
  },
  {
   "cell_type": "markdown",
   "metadata": {
    "slideshow": {
     "slide_type": "notes"
    }
   },
   "source": [
    "the graph shows that most trips spent between 0-1 hour and there are trips spent more than 3 hours (outliers) \n",
    "\n",
    "- number of trips that spent more than 3 hour = 4189 trips\n",
    "- number of trips that spent more than 4 hour = 3093 trips\n",
    "- number of trips that spent more than 5 hour = 2499 trips\n",
    "- number of trips that spent more than 6 hour = 2099 trips"
   ]
  },
  {
   "cell_type": "code",
   "execution_count": 20,
   "metadata": {
    "slideshow": {
     "slide_type": "skip"
    }
   },
   "outputs": [],
   "source": [
    "# fistly, I'll create duration_hour column\n",
    "df['duration_hour'] = df['duration_min']/60\n",
    "df['duration_hour'] = df['duration_hour'].astype(float)"
   ]
  },
  {
   "cell_type": "code",
   "execution_count": 21,
   "metadata": {
    "slideshow": {
     "slide_type": "skip"
    }
   },
   "outputs": [
    {
     "data": {
      "text/plain": [
       "0.016944444444444443"
      ]
     },
     "execution_count": 21,
     "metadata": {},
     "output_type": "execute_result"
    }
   ],
   "source": [
    "# least trip'time\n",
    "df.duration_hour.min()"
   ]
  },
  {
   "cell_type": "code",
   "execution_count": 22,
   "metadata": {
    "slideshow": {
     "slide_type": "subslide"
    }
   },
   "outputs": [
    {
     "data": {
      "text/plain": [
       "(0.0, 5.0)"
      ]
     },
     "execution_count": 22,
     "metadata": {},
     "output_type": "execute_result"
    },
    {
     "data": {
      "image/png": "[encoded data removed]",
      "text/plain": [
       "<Figure size 720x360 with 1 Axes>"
      ]
     },
     "metadata": {
      "needs_background": "light"
     },
     "output_type": "display_data"
    }
   ],
   "source": [
    "# ploting\n",
    "bins = np.arange(0, df.duration_hour.max()+1,1)\n",
    "\n",
    "plt.figure(figsize=(10,5))\n",
    "plt.hist(data=df, x='duration_hour',bins=bins)\n",
    "plt.xlabel('Time of Trip(hour)')\n",
    "plt.ylabel('Trip count')\n",
    "plt.xlim([0,5])"
   ]
  },
  {
   "cell_type": "code",
   "execution_count": 23,
   "metadata": {
    "slideshow": {
     "slide_type": "skip"
    }
   },
   "outputs": [
    {
     "name": "stdout",
     "output_type": "stream",
     "text": [
      "(4189, 15)\n",
      "(3093, 15)\n",
      "(2499, 15)\n",
      "(2099, 15)\n"
     ]
    }
   ],
   "source": [
    "# outliers ( > 3,4,5,6 hours)\n",
    "print(df.query(\"duration_hour > 3\").shape)\n",
    "print(df.query(\"duration_hour > 4\").shape)\n",
    "print(df.query(\"duration_hour > 5\").shape)\n",
    "print(df.query(\"duration_hour > 6\").shape)"
   ]
  },
  {
   "cell_type": "markdown",
   "metadata": {
    "slideshow": {
     "slide_type": "slide"
    }
   },
   "source": [
    "### Discuss the distribution(s) of your variable(s) of interest. Were there any unusual points? Did you need to perform any transformations?\n",
    "\n",
    "the duration per hour graph shows that there are outlier (approx 4200 trips) compared to the sum of the trips (577703 trips)\n",
    "\n",
    "### Of the features you investigated, were there any unusual distributions? Did you perform any operations on the data to tidy, adjust, or change the form of the data? If so, why did you do this?\n",
    "\n",
    "I've converted duration(sec) column to duration(per min) and duration(per hour) by creating new coloumn for each and I've extracted the start day, month, hour from the start time of the trip in a new column for each to explore the data more easly "
   ]
  },
  {
   "cell_type": "markdown",
   "metadata": {
    "slideshow": {
     "slide_type": "slide"
    }
   },
   "source": [
    "## Bivariate Exploration\n"
   ]
  },
  {
   "cell_type": "markdown",
   "metadata": {
    "slideshow": {
     "slide_type": "slide"
    }
   },
   "source": [
    "### The Relation Between Age of Users & Trip duration(min)\n"
   ]
  },
  {
   "cell_type": "code",
   "execution_count": 24,
   "metadata": {
    "slideshow": {
     "slide_type": "skip"
    }
   },
   "outputs": [],
   "source": [
    "# Firstly, I'll create a new column for age for every user\n",
    "# and We will consider \n",
    "# that we are in 2013 (the year of the dataset was established)\n",
    "df['user_age'] = (2013-df.birth_year)"
   ]
  },
  {
   "cell_type": "code",
   "execution_count": 25,
   "metadata": {
    "slideshow": {
     "slide_type": "subslide"
    }
   },
   "outputs": [
    {
     "data": {
      "text/plain": [
       "<matplotlib.colorbar.Colorbar at 0x7f1858128bb0>"
      ]
     },
     "execution_count": 25,
     "metadata": {},
     "output_type": "execute_result"
    },
    {
     "data": {
      "image/png": "[encoded data removed]",
      "text/plain": [
       "<Figure size 792x504 with 2 Axes>"
      ]
     },
     "metadata": {
      "needs_background": "light"
     },
     "output_type": "display_data"
    }
   ],
   "source": [
    "# ploting HeatMap to explore more easly for the ages\n",
    "plt.figure(figsize=(11,7))\n",
    "bins_x = np.arange(5,90+1,2)\n",
    "bins_y = np.arange(0,700+1,150)\n",
    "plt.hist2d(data=df, x='user_age', y='duration_min',bins=[bins_x,bins_y]\n",
    "           , cmap='viridis_r')\n",
    "plt.xlabel('User Age')\n",
    "plt.ylabel('Duration(min)')\n",
    "plt.title('Trip Duration(min) vs User Age')\n",
    "plt.colorbar()"
   ]
  },
  {
   "cell_type": "code",
   "execution_count": 26,
   "metadata": {
    "slideshow": {
     "slide_type": "subslide"
    }
   },
   "outputs": [
    {
     "data": {
      "text/plain": [
       "Text(0.5, 1.0, 'Trip Duration(min) vs User Age')"
      ]
     },
     "execution_count": 26,
     "metadata": {},
     "output_type": "execute_result"
    },
    {
     "data": {
      "image/png": "[encoded data removed]",
      "text/plain": [
       "<Figure size 792x504 with 1 Axes>"
      ]
     },
     "metadata": {
      "needs_background": "light"
     },
     "output_type": "display_data"
    }
   ],
   "source": [
    "# Ploting Scatter to explore more easly for durations\n",
    "plt.figure(figsize=(11,7))\n",
    "\n",
    "plt.scatter(data=df, x='user_age', y='duration_min',alpha=.5)\n",
    "plt.axis([5,90,0,700])  #[xmin, xmax, ymin, ymax]\n",
    "plt.xlabel('User Age')\n",
    "plt.ylabel('Duration(min)')\n",
    "plt.title('Trip Duration(min) vs User Age')"
   ]
  },
  {
   "cell_type": "markdown",
   "metadata": {
    "slideshow": {
     "slide_type": "notes"
    }
   },
   "source": [
    "The Two graph shows that most users(Subscribers + Customers) are aged between 20-60\n",
    "\n",
    "and also show that higher duration is done by the younger users(25-35) "
   ]
  },
  {
   "cell_type": "markdown",
   "metadata": {
    "slideshow": {
     "slide_type": "slide"
    }
   },
   "source": [
    "### The relation between user type and the duration of the trip(min)"
   ]
  },
  {
   "cell_type": "code",
   "execution_count": 27,
   "metadata": {
    "slideshow": {
     "slide_type": "subslide"
    }
   },
   "outputs": [
    {
     "data": {
      "text/plain": [
       "(0.0, 60.0)"
      ]
     },
     "execution_count": 27,
     "metadata": {},
     "output_type": "execute_result"
    },
    {
     "data": {
      "image/png": "[encoded data removed]",
      "text/plain": [
       "<Figure size 720x360 with 1 Axes>"
      ]
     },
     "metadata": {
      "needs_background": "light"
     },
     "output_type": "display_data"
    }
   ],
   "source": [
    "# ploting BoxPlot \n",
    "fig, ax = plt.subplots(figsize=(10,5))\n",
    "sb.boxplot(data=df, x='user_type', y='duration_min',ax=ax)\n",
    "\n",
    "plt.xlabel('User Type')\n",
    "plt.ylabel('Duration(min)')\n",
    "plt.title('Trip Duration(min) Per User Type')\n",
    "\n",
    "# limiting to one hour\n",
    "plt.ylim([0,60])"
   ]
  },
  {
   "cell_type": "code",
   "execution_count": 28,
   "metadata": {
    "slideshow": {
     "slide_type": "skip"
    }
   },
   "outputs": [
    {
     "data": {
      "text/plain": [
       "Subscriber    337384\n",
       "Customer      240319\n",
       "Name: user_type, dtype: int64"
      ]
     },
     "execution_count": 28,
     "metadata": {},
     "output_type": "execute_result"
    }
   ],
   "source": [
    "df.user_type.value_counts()"
   ]
  },
  {
   "cell_type": "markdown",
   "metadata": {
    "slideshow": {
     "slide_type": "notes"
    }
   },
   "source": [
    "The grah here shows that Customers(not subscribers) having a higher duration(min) for Subscribers "
   ]
  },
  {
   "cell_type": "markdown",
   "metadata": {
    "slideshow": {
     "slide_type": "notes"
    }
   },
   "source": [
    "Let's plot same relation but per day of the every month"
   ]
  },
  {
   "cell_type": "markdown",
   "metadata": {
    "slideshow": {
     "slide_type": "slide"
    }
   },
   "source": [
    "### The relation between the Weekdays and the duration of the trip(min)"
   ]
  },
  {
   "cell_type": "code",
   "execution_count": 29,
   "metadata": {
    "slideshow": {
     "slide_type": "subslide"
    }
   },
   "outputs": [
    {
     "data": {
      "text/plain": [
       "Text(0, 0.5, 'Duration(min)')"
      ]
     },
     "execution_count": 29,
     "metadata": {},
     "output_type": "execute_result"
    },
    {
     "data": {
      "image/png": "[encoded data removed]",
      "text/plain": [
       "<Figure size 720x360 with 1 Axes>"
      ]
     },
     "metadata": {
      "needs_background": "light"
     },
     "output_type": "display_data"
    }
   ],
   "source": [
    "fig, ax = plt.subplots(figsize=(10,5))\n",
    "color = sb.color_palette()[0]\n",
    "sb.barplot(data=df, x='day_n', y='duration_min',color=color)\n",
    "plt.title('Weekdays vs Trip Duration')\n",
    "plt.xlabel('Weekdays')\n",
    "plt.ylabel('Duration(min)')"
   ]
  },
  {
   "cell_type": "markdown",
   "metadata": {
    "slideshow": {
     "slide_type": "notes"
    }
   },
   "source": [
    "The relation shows that Saturday, Sunday, Tuesday and Wednesday have higher trip duration for Monday, Thursday and Friday\n",
    "\n",
    "\n",
    "The graph show also that the average trip duration per day is approx 10 min"
   ]
  },
  {
   "cell_type": "markdown",
   "metadata": {
    "slideshow": {
     "slide_type": "slide"
    }
   },
   "source": [
    "### The relation between  Time Trip Start(hour) and the duration of the trip(min)"
   ]
  },
  {
   "cell_type": "code",
   "execution_count": 30,
   "metadata": {
    "slideshow": {
     "slide_type": "subslide"
    }
   },
   "outputs": [
    {
     "data": {
      "text/plain": [
       "Text(0, 0.5, 'Duration(min)')"
      ]
     },
     "execution_count": 30,
     "metadata": {},
     "output_type": "execute_result"
    },
    {
     "data": {
      "image/png": "[encoded data removed]",
      "text/plain": [
       "<Figure size 720x360 with 1 Axes>"
      ]
     },
     "metadata": {
      "needs_background": "light"
     },
     "output_type": "display_data"
    }
   ],
   "source": [
    "fig, ax = plt.subplots(figsize=(10,5))\n",
    "color = sb.color_palette()[0]\n",
    "sb.barplot(data=df, x='hour', y='duration_min',color=color)\n",
    "plt.title('Time Trip Start(hour) vs Trip Duration')\n",
    "plt.xlabel('Time Trip Start(Hour)')\n",
    "plt.ylabel('Duration(min)')"
   ]
  },
  {
   "cell_type": "markdown",
   "metadata": {
    "slideshow": {
     "slide_type": "slide"
    }
   },
   "source": [
    "### Talk about some of the relationships you observed in this part of the investigation. How did the feature(s) of interest vary with other features in the dataset?\n",
    "\n",
    "although the number of Subscribers are 337384 and number of Cutomers are 240319 (97065 differnce) \n",
    "\n",
    "the customers are spent more time(duration of the trip) than Subscribers \n",
    " \n",
    "the relation between weekdays and duration of the trips indicate that Saturday, Sunday, Tuesday and Wednesday have higher trip duration for Monday, Thursday and Friday \n",
    "\n",
    "younger users ride bikes more than older with higher duration\n",
    "\n",
    "the relation between the Start time trip and Duration of the trip per mintues indicate that most users prefer to go biking at 4 am with higher duration its average up to 75 min\n",
    "\n",
    "### Did you observe any interesting relationships between the other features (not the main feature(s) of interest)?\n",
    "\n",
    "I think the weekdays that users prefer ride a bike are Sunday and Tuesday ,Saturday and Wednesday and they prefer also to go biking on 4 Am with higher Trip duration"
   ]
  },
  {
   "cell_type": "markdown",
   "metadata": {
    "slideshow": {
     "slide_type": "slide"
    }
   },
   "source": [
    "## Multivariate Exploration"
   ]
  },
  {
   "cell_type": "markdown",
   "metadata": {
    "slideshow": {
     "slide_type": "slide"
    }
   },
   "source": [
    "### Bike Sharing System per hour and User type"
   ]
  },
  {
   "cell_type": "code",
   "execution_count": 31,
   "metadata": {
    "slideshow": {
     "slide_type": "subslide"
    }
   },
   "outputs": [
    {
     "data": {
      "text/plain": [
       "<AxesSubplot:xlabel='hour', ylabel='duration_min'>"
      ]
     },
     "execution_count": 31,
     "metadata": {},
     "output_type": "execute_result"
    },
    {
     "data": {
      "image/png": "[encoded data removed]",
      "text/plain": [
       "<Figure size 792x504 with 1 Axes>"
      ]
     },
     "metadata": {
      "needs_background": "light"
     },
     "output_type": "display_data"
    }
   ],
   "source": [
    "# ploting using lineplot \n",
    "fig, ax = plt.subplots(figsize=(11,7))\n",
    "sb.lineplot(data = df, x ='hour', y = 'duration_min',hue='user_type',ax=ax)"
   ]
  },
  {
   "cell_type": "markdown",
   "metadata": {
    "slideshow": {
     "slide_type": "slide"
    }
   },
   "source": [
    "### Talk about some of the relationships you observed in this part of the investigation. Were there features that strengthened each other in terms of looking at your feature(s) of interest?\n",
    "\n",
    "The graph indicates that from 3 to 5 Am Customer user prefer to go biking at this time with average trip duration 130 min and higher while subscriber doesn't prefer this time,\n",
    "\n",
    "also the grahp shows that Customers usage is higher than that of Subcriber as we told before\n",
    "\n",
    "### Were there any interesting or surprising interactions between features?\n",
    "\n",
    "Yes, in the realtion of (Bike Sharing System per hour and User type) \n",
    "i found that it is some how confused to customers are using Bike Sharing System more than to Subscribers and they also do higher Trip duration "
   ]
  }
 ],
 "metadata": {
  "celltoolbar": "Slideshow",
  "kernelspec": {
   "display_name": "Python 3",
   "language": "python",
   "name": "python3"
  },
  "language_info": {
   "codemirror_mode": {
    "name": "ipython",
    "version": 3
   },
   "file_extension": ".py",
   "mimetype": "text/x-python",
   "name": "python",
   "nbconvert_exporter": "python",
   "pygments_lexer": "ipython3",
   "version": "3.9.1"
  }
 },
 "nbformat": 4,
 "nbformat_minor": 2
}
